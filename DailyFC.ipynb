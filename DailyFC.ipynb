{
 "cells": [
  {
   "cell_type": "markdown",
   "metadata": {},
   "source": [
    "# KAGGLE: M5 FORECASTING"
   ]
  },
  {
   "cell_type": "markdown",
   "metadata": {},
   "source": [
    "https://www.kaggle.com/c/m5-forecasting-accuracy/data"
   ]
  },
  {
   "cell_type": "markdown",
   "metadata": {},
   "source": [
    "---"
   ]
  },
  {
   "cell_type": "markdown",
   "metadata": {},
   "source": [
    "## Import Libraries"
   ]
  },
  {
   "cell_type": "code",
   "execution_count": 2,
   "metadata": {},
   "outputs": [],
   "source": [
    "import warnings\n",
    "warnings.filterwarnings('ignore')\n",
    "\n",
    "import numpy as np\n",
    "import pandas as pd\n",
    "import matplotlib.pyplot as plt\n",
    "import seaborn as sns\n",
    "\n",
    "from scipy.stats import boxcox\n",
    "from sklearn.preprocessing import StandardScaler\n",
    "from sklearn.linear_model import LinearRegression"
   ]
  },
  {
   "cell_type": "markdown",
   "metadata": {},
   "source": [
    "---"
   ]
  },
  {
   "cell_type": "markdown",
   "metadata": {},
   "source": [
    "## Import data"
   ]
  },
  {
   "cell_type": "code",
   "execution_count": 3,
   "metadata": {},
   "outputs": [],
   "source": [
    "filename = 'data/sales_train_validation.csv'\n",
    "df_raw = pd.read_csv(filename)"
   ]
  },
  {
   "cell_type": "code",
   "execution_count": 4,
   "metadata": {},
   "outputs": [
    {
     "data": {
      "text/html": [
       "<div>\n",
       "<style scoped>\n",
       "    .dataframe tbody tr th:only-of-type {\n",
       "        vertical-align: middle;\n",
       "    }\n",
       "\n",
       "    .dataframe tbody tr th {\n",
       "        vertical-align: top;\n",
       "    }\n",
       "\n",
       "    .dataframe thead th {\n",
       "        text-align: right;\n",
       "    }\n",
       "</style>\n",
       "<table border=\"1\" class=\"dataframe\">\n",
       "  <thead>\n",
       "    <tr style=\"text-align: right;\">\n",
       "      <th></th>\n",
       "      <th>id</th>\n",
       "      <th>item_id</th>\n",
       "      <th>dept_id</th>\n",
       "      <th>cat_id</th>\n",
       "      <th>store_id</th>\n",
       "      <th>state_id</th>\n",
       "      <th>d_1</th>\n",
       "      <th>d_2</th>\n",
       "      <th>d_3</th>\n",
       "      <th>d_4</th>\n",
       "      <th>...</th>\n",
       "      <th>d_1904</th>\n",
       "      <th>d_1905</th>\n",
       "      <th>d_1906</th>\n",
       "      <th>d_1907</th>\n",
       "      <th>d_1908</th>\n",
       "      <th>d_1909</th>\n",
       "      <th>d_1910</th>\n",
       "      <th>d_1911</th>\n",
       "      <th>d_1912</th>\n",
       "      <th>d_1913</th>\n",
       "    </tr>\n",
       "  </thead>\n",
       "  <tbody>\n",
       "    <tr>\n",
       "      <th>0</th>\n",
       "      <td>HOBBIES_1_001_CA_1_validation</td>\n",
       "      <td>HOBBIES_1_001</td>\n",
       "      <td>HOBBIES_1</td>\n",
       "      <td>HOBBIES</td>\n",
       "      <td>CA_1</td>\n",
       "      <td>CA</td>\n",
       "      <td>0</td>\n",
       "      <td>0</td>\n",
       "      <td>0</td>\n",
       "      <td>0</td>\n",
       "      <td>...</td>\n",
       "      <td>1</td>\n",
       "      <td>3</td>\n",
       "      <td>0</td>\n",
       "      <td>1</td>\n",
       "      <td>1</td>\n",
       "      <td>1</td>\n",
       "      <td>3</td>\n",
       "      <td>0</td>\n",
       "      <td>1</td>\n",
       "      <td>1</td>\n",
       "    </tr>\n",
       "  </tbody>\n",
       "</table>\n",
       "<p>1 rows × 1919 columns</p>\n",
       "</div>"
      ],
      "text/plain": [
       "                              id        item_id    dept_id   cat_id store_id  \\\n",
       "0  HOBBIES_1_001_CA_1_validation  HOBBIES_1_001  HOBBIES_1  HOBBIES     CA_1   \n",
       "\n",
       "  state_id  d_1  d_2  d_3  d_4  ...  d_1904  d_1905  d_1906  d_1907  d_1908  \\\n",
       "0       CA    0    0    0    0  ...       1       3       0       1       1   \n",
       "\n",
       "   d_1909  d_1910  d_1911  d_1912  d_1913  \n",
       "0       1       3       0       1       1  \n",
       "\n",
       "[1 rows x 1919 columns]"
      ]
     },
     "execution_count": 4,
     "metadata": {},
     "output_type": "execute_result"
    }
   ],
   "source": [
    "df_raw.head(1)"
   ]
  },
  {
   "cell_type": "code",
   "execution_count": 5,
   "metadata": {},
   "outputs": [],
   "source": [
    "filename = 'data/calendar.csv'\n",
    "calendar = pd.read_csv(filename, parse_dates=['date'], infer_datetime_format=True, dayfirst=True)"
   ]
  },
  {
   "cell_type": "code",
   "execution_count": 6,
   "metadata": {},
   "outputs": [
    {
     "data": {
      "text/html": [
       "<div>\n",
       "<style scoped>\n",
       "    .dataframe tbody tr th:only-of-type {\n",
       "        vertical-align: middle;\n",
       "    }\n",
       "\n",
       "    .dataframe tbody tr th {\n",
       "        vertical-align: top;\n",
       "    }\n",
       "\n",
       "    .dataframe thead th {\n",
       "        text-align: right;\n",
       "    }\n",
       "</style>\n",
       "<table border=\"1\" class=\"dataframe\">\n",
       "  <thead>\n",
       "    <tr style=\"text-align: right;\">\n",
       "      <th></th>\n",
       "      <th>date</th>\n",
       "      <th>wm_yr_wk</th>\n",
       "      <th>weekday</th>\n",
       "      <th>wday</th>\n",
       "      <th>month</th>\n",
       "      <th>year</th>\n",
       "      <th>d</th>\n",
       "      <th>event_name_1</th>\n",
       "      <th>event_type_1</th>\n",
       "      <th>event_name_2</th>\n",
       "      <th>event_type_2</th>\n",
       "      <th>snap_CA</th>\n",
       "      <th>snap_TX</th>\n",
       "      <th>snap_WI</th>\n",
       "    </tr>\n",
       "  </thead>\n",
       "  <tbody>\n",
       "    <tr>\n",
       "      <th>0</th>\n",
       "      <td>2011-01-29</td>\n",
       "      <td>11101</td>\n",
       "      <td>5_Sat</td>\n",
       "      <td>1</td>\n",
       "      <td>1</td>\n",
       "      <td>2011</td>\n",
       "      <td>d_1</td>\n",
       "      <td>NaN</td>\n",
       "      <td>NaN</td>\n",
       "      <td>NaN</td>\n",
       "      <td>NaN</td>\n",
       "      <td>0</td>\n",
       "      <td>0</td>\n",
       "      <td>0</td>\n",
       "    </tr>\n",
       "  </tbody>\n",
       "</table>\n",
       "</div>"
      ],
      "text/plain": [
       "        date  wm_yr_wk weekday  wday  month  year    d event_name_1  \\\n",
       "0 2011-01-29     11101   5_Sat     1      1  2011  d_1          NaN   \n",
       "\n",
       "  event_type_1 event_name_2 event_type_2  snap_CA  snap_TX  snap_WI  \n",
       "0          NaN          NaN          NaN        0        0        0  "
      ]
     },
     "execution_count": 6,
     "metadata": {},
     "output_type": "execute_result"
    }
   ],
   "source": [
    "calendar.head(1)"
   ]
  },
  {
   "cell_type": "code",
   "execution_count": 7,
   "metadata": {},
   "outputs": [],
   "source": [
    "filename = 'data/sell_prices.csv'\n",
    "price = pd.read_csv(filename)"
   ]
  },
  {
   "cell_type": "code",
   "execution_count": 8,
   "metadata": {},
   "outputs": [
    {
     "data": {
      "text/html": [
       "<div>\n",
       "<style scoped>\n",
       "    .dataframe tbody tr th:only-of-type {\n",
       "        vertical-align: middle;\n",
       "    }\n",
       "\n",
       "    .dataframe tbody tr th {\n",
       "        vertical-align: top;\n",
       "    }\n",
       "\n",
       "    .dataframe thead th {\n",
       "        text-align: right;\n",
       "    }\n",
       "</style>\n",
       "<table border=\"1\" class=\"dataframe\">\n",
       "  <thead>\n",
       "    <tr style=\"text-align: right;\">\n",
       "      <th></th>\n",
       "      <th>store_id</th>\n",
       "      <th>item_id</th>\n",
       "      <th>wm_yr_wk</th>\n",
       "      <th>sell_price</th>\n",
       "    </tr>\n",
       "  </thead>\n",
       "  <tbody>\n",
       "    <tr>\n",
       "      <th>0</th>\n",
       "      <td>CA_1</td>\n",
       "      <td>HOBBIES_1_001</td>\n",
       "      <td>11325</td>\n",
       "      <td>9.58</td>\n",
       "    </tr>\n",
       "  </tbody>\n",
       "</table>\n",
       "</div>"
      ],
      "text/plain": [
       "  store_id        item_id  wm_yr_wk  sell_price\n",
       "0     CA_1  HOBBIES_1_001     11325        9.58"
      ]
     },
     "execution_count": 8,
     "metadata": {},
     "output_type": "execute_result"
    }
   ],
   "source": [
    "price.head(1)"
   ]
  },
  {
   "cell_type": "markdown",
   "metadata": {},
   "source": [
    "---"
   ]
  },
  {
   "cell_type": "markdown",
   "metadata": {},
   "source": [
    "## Preprocessing"
   ]
  },
  {
   "cell_type": "code",
   "execution_count": 9,
   "metadata": {},
   "outputs": [],
   "source": [
    "PRODUCT = 1\n",
    "MIN_PERIOD = pd.to_datetime('01-09-2011', format='%d-%m-%Y')"
   ]
  },
  {
   "cell_type": "markdown",
   "metadata": {},
   "source": [
    "### Calendar: mapping date <> d"
   ]
  },
  {
   "cell_type": "code",
   "execution_count": 10,
   "metadata": {},
   "outputs": [],
   "source": [
    "mapping_calendar = calendar[['date', 'd', 'wm_yr_wk', 'weekday', 'month', 'year']].copy()"
   ]
  },
  {
   "cell_type": "markdown",
   "metadata": {},
   "source": [
    "### Calendar: holidays name, type"
   ]
  },
  {
   "cell_type": "code",
   "execution_count": 11,
   "metadata": {},
   "outputs": [],
   "source": [
    "holidays = calendar[['d', 'event_name_1']].copy()\n",
    "holidays.dropna(inplace=True)"
   ]
  },
  {
   "cell_type": "code",
   "execution_count": 12,
   "metadata": {},
   "outputs": [
    {
     "data": {
      "text/html": [
       "<div>\n",
       "<style scoped>\n",
       "    .dataframe tbody tr th:only-of-type {\n",
       "        vertical-align: middle;\n",
       "    }\n",
       "\n",
       "    .dataframe tbody tr th {\n",
       "        vertical-align: top;\n",
       "    }\n",
       "\n",
       "    .dataframe thead th {\n",
       "        text-align: right;\n",
       "    }\n",
       "</style>\n",
       "<table border=\"1\" class=\"dataframe\">\n",
       "  <thead>\n",
       "    <tr style=\"text-align: right;\">\n",
       "      <th></th>\n",
       "      <th>d</th>\n",
       "      <th>holiday</th>\n",
       "    </tr>\n",
       "  </thead>\n",
       "  <tbody>\n",
       "    <tr>\n",
       "      <th>8</th>\n",
       "      <td>d_9</td>\n",
       "      <td>SuperBowl</td>\n",
       "    </tr>\n",
       "    <tr>\n",
       "      <th>16</th>\n",
       "      <td>d_17</td>\n",
       "      <td>ValentinesDay</td>\n",
       "    </tr>\n",
       "    <tr>\n",
       "      <th>85</th>\n",
       "      <td>d_86</td>\n",
       "      <td>Easter</td>\n",
       "    </tr>\n",
       "    <tr>\n",
       "      <th>99</th>\n",
       "      <td>d_100</td>\n",
       "      <td>Mother's day</td>\n",
       "    </tr>\n",
       "    <tr>\n",
       "      <th>122</th>\n",
       "      <td>d_123</td>\n",
       "      <td>NBAFinalsStart</td>\n",
       "    </tr>\n",
       "  </tbody>\n",
       "</table>\n",
       "</div>"
      ],
      "text/plain": [
       "         d         holiday\n",
       "8      d_9       SuperBowl\n",
       "16    d_17   ValentinesDay\n",
       "85    d_86          Easter\n",
       "99   d_100    Mother's day\n",
       "122  d_123  NBAFinalsStart"
      ]
     },
     "execution_count": 12,
     "metadata": {},
     "output_type": "execute_result"
    }
   ],
   "source": [
    "filter_holidays = ['SuperBowl', 'ValentinesDay', 'Easter', 'NBAFinalsEnd', 'Thanksgiving', 'Christmas', 'NewYear',\n",
    "                  \"Mother's day\", 'NBAFinalsStart','NBAFinalsEnd', \"Father's day\", 'IndependenceDay', \n",
    "                   'Ramadan starts', 'Eid al-Fitr', 'LaborDay', 'ColumbusDay', 'Halloween', 'EidAlAdha']\n",
    "flag = holidays['event_name_1'].apply(lambda x: x in filter_holidays)\n",
    "holidays = holidays[flag]\n",
    "holidays.rename(columns={'event_name_1':'holiday'}, inplace=True)\n",
    "holidays.head()"
   ]
  },
  {
   "cell_type": "markdown",
   "metadata": {},
   "source": [
    "### Training data: cut data (get top N products)"
   ]
  },
  {
   "cell_type": "code",
   "execution_count": 13,
   "metadata": {},
   "outputs": [],
   "source": [
    "df = df_raw.drop(['item_id', 'dept_id', 'cat_id', 'store_id', 'state_id'], axis=1).copy()\n",
    "df.set_index('id', inplace=True)"
   ]
  },
  {
   "cell_type": "code",
   "execution_count": 14,
   "metadata": {},
   "outputs": [],
   "source": [
    "df['total'] = df.sum(axis=1)"
   ]
  },
  {
   "cell_type": "code",
   "execution_count": 15,
   "metadata": {},
   "outputs": [],
   "source": [
    "df_sorted = df[['total']].sort_values(by='total', ascending=False)"
   ]
  },
  {
   "cell_type": "code",
   "execution_count": 16,
   "metadata": {},
   "outputs": [
    {
     "data": {
      "text/plain": [
       "'FOODS_3_586_TX_2_validation'"
      ]
     },
     "execution_count": 16,
     "metadata": {},
     "output_type": "execute_result"
    }
   ],
   "source": [
    "# n = 1\n",
    "# top_id = [df_sorted.index[i] for i in range(n)]\n",
    "top_id = df_sorted.index[PRODUCT]\n",
    "top_id"
   ]
  },
  {
   "cell_type": "code",
   "execution_count": 17,
   "metadata": {},
   "outputs": [],
   "source": [
    "df_raw['flag'] = df_raw['id'].apply(lambda x: x in top_id)"
   ]
  },
  {
   "cell_type": "code",
   "execution_count": 18,
   "metadata": {},
   "outputs": [
    {
     "data": {
      "text/html": [
       "<div>\n",
       "<style scoped>\n",
       "    .dataframe tbody tr th:only-of-type {\n",
       "        vertical-align: middle;\n",
       "    }\n",
       "\n",
       "    .dataframe tbody tr th {\n",
       "        vertical-align: top;\n",
       "    }\n",
       "\n",
       "    .dataframe thead th {\n",
       "        text-align: right;\n",
       "    }\n",
       "</style>\n",
       "<table border=\"1\" class=\"dataframe\">\n",
       "  <thead>\n",
       "    <tr style=\"text-align: right;\">\n",
       "      <th></th>\n",
       "      <th>id</th>\n",
       "      <th>item_id</th>\n",
       "      <th>dept_id</th>\n",
       "      <th>cat_id</th>\n",
       "      <th>store_id</th>\n",
       "      <th>state_id</th>\n",
       "      <th>d_1</th>\n",
       "      <th>d_2</th>\n",
       "      <th>d_3</th>\n",
       "      <th>d_4</th>\n",
       "      <th>...</th>\n",
       "      <th>d_1904</th>\n",
       "      <th>d_1905</th>\n",
       "      <th>d_1906</th>\n",
       "      <th>d_1907</th>\n",
       "      <th>d_1908</th>\n",
       "      <th>d_1909</th>\n",
       "      <th>d_1910</th>\n",
       "      <th>d_1911</th>\n",
       "      <th>d_1912</th>\n",
       "      <th>d_1913</th>\n",
       "    </tr>\n",
       "  </thead>\n",
       "  <tbody>\n",
       "    <tr>\n",
       "      <th>18055</th>\n",
       "      <td>FOODS_3_586_TX_2_validation</td>\n",
       "      <td>FOODS_3_586</td>\n",
       "      <td>FOODS_3</td>\n",
       "      <td>FOODS</td>\n",
       "      <td>TX_2</td>\n",
       "      <td>TX</td>\n",
       "      <td>98</td>\n",
       "      <td>85</td>\n",
       "      <td>47</td>\n",
       "      <td>56</td>\n",
       "      <td>...</td>\n",
       "      <td>80</td>\n",
       "      <td>78</td>\n",
       "      <td>102</td>\n",
       "      <td>54</td>\n",
       "      <td>67</td>\n",
       "      <td>57</td>\n",
       "      <td>59</td>\n",
       "      <td>80</td>\n",
       "      <td>100</td>\n",
       "      <td>75</td>\n",
       "    </tr>\n",
       "  </tbody>\n",
       "</table>\n",
       "<p>1 rows × 1919 columns</p>\n",
       "</div>"
      ],
      "text/plain": [
       "                                id      item_id  dept_id cat_id store_id  \\\n",
       "18055  FOODS_3_586_TX_2_validation  FOODS_3_586  FOODS_3  FOODS     TX_2   \n",
       "\n",
       "      state_id  d_1  d_2  d_3  d_4  ...  d_1904  d_1905  d_1906  d_1907  \\\n",
       "18055       TX   98   85   47   56  ...      80      78     102      54   \n",
       "\n",
       "       d_1908  d_1909  d_1910  d_1911  d_1912  d_1913  \n",
       "18055      67      57      59      80     100      75  \n",
       "\n",
       "[1 rows x 1919 columns]"
      ]
     },
     "execution_count": 18,
     "metadata": {},
     "output_type": "execute_result"
    }
   ],
   "source": [
    "df_filter = df_raw[df_raw['flag']]\n",
    "df_filter.drop('flag', axis=1, inplace=True)\n",
    "df_filter.head()"
   ]
  },
  {
   "cell_type": "markdown",
   "metadata": {},
   "source": [
    "### Training data: drop columns"
   ]
  },
  {
   "cell_type": "code",
   "execution_count": 19,
   "metadata": {},
   "outputs": [],
   "source": [
    "drop_cols = ['dept_id', 'cat_id', 'state_id']\n",
    "df_filter.drop(drop_cols, axis=1, inplace=True)"
   ]
  },
  {
   "cell_type": "markdown",
   "metadata": {},
   "source": [
    "### Unpivot weeks"
   ]
  },
  {
   "cell_type": "code",
   "execution_count": 20,
   "metadata": {},
   "outputs": [
    {
     "data": {
      "text/html": [
       "<div>\n",
       "<style scoped>\n",
       "    .dataframe tbody tr th:only-of-type {\n",
       "        vertical-align: middle;\n",
       "    }\n",
       "\n",
       "    .dataframe tbody tr th {\n",
       "        vertical-align: top;\n",
       "    }\n",
       "\n",
       "    .dataframe thead th {\n",
       "        text-align: right;\n",
       "    }\n",
       "</style>\n",
       "<table border=\"1\" class=\"dataframe\">\n",
       "  <thead>\n",
       "    <tr style=\"text-align: right;\">\n",
       "      <th></th>\n",
       "      <th>id</th>\n",
       "      <th>item_id</th>\n",
       "      <th>store_id</th>\n",
       "      <th>d</th>\n",
       "      <th>value</th>\n",
       "    </tr>\n",
       "  </thead>\n",
       "  <tbody>\n",
       "    <tr>\n",
       "      <th>1908</th>\n",
       "      <td>FOODS_3_586_TX_2_validation</td>\n",
       "      <td>FOODS_3_586</td>\n",
       "      <td>TX_2</td>\n",
       "      <td>d_1909</td>\n",
       "      <td>57</td>\n",
       "    </tr>\n",
       "    <tr>\n",
       "      <th>1909</th>\n",
       "      <td>FOODS_3_586_TX_2_validation</td>\n",
       "      <td>FOODS_3_586</td>\n",
       "      <td>TX_2</td>\n",
       "      <td>d_1910</td>\n",
       "      <td>59</td>\n",
       "    </tr>\n",
       "    <tr>\n",
       "      <th>1910</th>\n",
       "      <td>FOODS_3_586_TX_2_validation</td>\n",
       "      <td>FOODS_3_586</td>\n",
       "      <td>TX_2</td>\n",
       "      <td>d_1911</td>\n",
       "      <td>80</td>\n",
       "    </tr>\n",
       "    <tr>\n",
       "      <th>1911</th>\n",
       "      <td>FOODS_3_586_TX_2_validation</td>\n",
       "      <td>FOODS_3_586</td>\n",
       "      <td>TX_2</td>\n",
       "      <td>d_1912</td>\n",
       "      <td>100</td>\n",
       "    </tr>\n",
       "    <tr>\n",
       "      <th>1912</th>\n",
       "      <td>FOODS_3_586_TX_2_validation</td>\n",
       "      <td>FOODS_3_586</td>\n",
       "      <td>TX_2</td>\n",
       "      <td>d_1913</td>\n",
       "      <td>75</td>\n",
       "    </tr>\n",
       "  </tbody>\n",
       "</table>\n",
       "</div>"
      ],
      "text/plain": [
       "                               id      item_id store_id       d  value\n",
       "1908  FOODS_3_586_TX_2_validation  FOODS_3_586     TX_2  d_1909     57\n",
       "1909  FOODS_3_586_TX_2_validation  FOODS_3_586     TX_2  d_1910     59\n",
       "1910  FOODS_3_586_TX_2_validation  FOODS_3_586     TX_2  d_1911     80\n",
       "1911  FOODS_3_586_TX_2_validation  FOODS_3_586     TX_2  d_1912    100\n",
       "1912  FOODS_3_586_TX_2_validation  FOODS_3_586     TX_2  d_1913     75"
      ]
     },
     "execution_count": 20,
     "metadata": {},
     "output_type": "execute_result"
    }
   ],
   "source": [
    "id_vars = ['id', 'item_id', 'store_id']\n",
    "df = df_filter.melt(id_vars=id_vars, var_name='d')\n",
    "df.tail()"
   ]
  },
  {
   "cell_type": "markdown",
   "metadata": {},
   "source": [
    "### Join date: replace d with dd-mm-yy"
   ]
  },
  {
   "cell_type": "code",
   "execution_count": 21,
   "metadata": {},
   "outputs": [],
   "source": [
    "df = pd.merge(df, mapping_calendar[['d', 'date', 'wm_yr_wk', 'weekday', 'month', 'year']], how='left', \n",
    "              left_on='d', right_on='d')\n",
    "df['date'] = pd.to_datetime(df['date'])"
   ]
  },
  {
   "cell_type": "code",
   "execution_count": 22,
   "metadata": {},
   "outputs": [
    {
     "data": {
      "text/html": [
       "<div>\n",
       "<style scoped>\n",
       "    .dataframe tbody tr th:only-of-type {\n",
       "        vertical-align: middle;\n",
       "    }\n",
       "\n",
       "    .dataframe tbody tr th {\n",
       "        vertical-align: top;\n",
       "    }\n",
       "\n",
       "    .dataframe thead th {\n",
       "        text-align: right;\n",
       "    }\n",
       "</style>\n",
       "<table border=\"1\" class=\"dataframe\">\n",
       "  <thead>\n",
       "    <tr style=\"text-align: right;\">\n",
       "      <th></th>\n",
       "      <th>id</th>\n",
       "      <th>item_id</th>\n",
       "      <th>store_id</th>\n",
       "      <th>d</th>\n",
       "      <th>value</th>\n",
       "      <th>date</th>\n",
       "      <th>wm_yr_wk</th>\n",
       "      <th>weekday</th>\n",
       "      <th>month</th>\n",
       "      <th>year</th>\n",
       "    </tr>\n",
       "  </thead>\n",
       "  <tbody>\n",
       "    <tr>\n",
       "      <th>1912</th>\n",
       "      <td>FOODS_3_586_TX_2_validation</td>\n",
       "      <td>FOODS_3_586</td>\n",
       "      <td>TX_2</td>\n",
       "      <td>d_1913</td>\n",
       "      <td>75</td>\n",
       "      <td>2016-04-24</td>\n",
       "      <td>11613</td>\n",
       "      <td>6_Sun</td>\n",
       "      <td>4</td>\n",
       "      <td>2016</td>\n",
       "    </tr>\n",
       "  </tbody>\n",
       "</table>\n",
       "</div>"
      ],
      "text/plain": [
       "                               id      item_id store_id       d  value  \\\n",
       "1912  FOODS_3_586_TX_2_validation  FOODS_3_586     TX_2  d_1913     75   \n",
       "\n",
       "           date  wm_yr_wk weekday  month  year  \n",
       "1912 2016-04-24     11613   6_Sun      4  2016  "
      ]
     },
     "execution_count": 22,
     "metadata": {},
     "output_type": "execute_result"
    }
   ],
   "source": [
    "df.tail(1)"
   ]
  },
  {
   "cell_type": "code",
   "execution_count": 23,
   "metadata": {},
   "outputs": [],
   "source": [
    "flag = df['date'] >= MIN_PERIOD\n",
    "df = df[flag]"
   ]
  },
  {
   "cell_type": "markdown",
   "metadata": {},
   "source": [
    "### Join date: holidays"
   ]
  },
  {
   "cell_type": "code",
   "execution_count": 24,
   "metadata": {},
   "outputs": [],
   "source": [
    "df = pd.merge(df, holidays[['d', 'holiday']], how='left', \n",
    "              left_on='d', right_on='d')\n",
    "df['holiday'].fillna(0, inplace=True)\n",
    "df.drop('d', axis=1, inplace=True)"
   ]
  },
  {
   "cell_type": "code",
   "execution_count": 25,
   "metadata": {},
   "outputs": [
    {
     "data": {
      "text/html": [
       "<div>\n",
       "<style scoped>\n",
       "    .dataframe tbody tr th:only-of-type {\n",
       "        vertical-align: middle;\n",
       "    }\n",
       "\n",
       "    .dataframe tbody tr th {\n",
       "        vertical-align: top;\n",
       "    }\n",
       "\n",
       "    .dataframe thead th {\n",
       "        text-align: right;\n",
       "    }\n",
       "</style>\n",
       "<table border=\"1\" class=\"dataframe\">\n",
       "  <thead>\n",
       "    <tr style=\"text-align: right;\">\n",
       "      <th></th>\n",
       "      <th>id</th>\n",
       "      <th>item_id</th>\n",
       "      <th>store_id</th>\n",
       "      <th>value</th>\n",
       "      <th>date</th>\n",
       "      <th>wm_yr_wk</th>\n",
       "      <th>weekday</th>\n",
       "      <th>month</th>\n",
       "      <th>year</th>\n",
       "      <th>holiday</th>\n",
       "    </tr>\n",
       "  </thead>\n",
       "  <tbody>\n",
       "    <tr>\n",
       "      <th>0</th>\n",
       "      <td>FOODS_3_586_TX_2_validation</td>\n",
       "      <td>FOODS_3_586</td>\n",
       "      <td>TX_2</td>\n",
       "      <td>144</td>\n",
       "      <td>2011-09-01</td>\n",
       "      <td>11131</td>\n",
       "      <td>3_Thu</td>\n",
       "      <td>9</td>\n",
       "      <td>2011</td>\n",
       "      <td>0</td>\n",
       "    </tr>\n",
       "    <tr>\n",
       "      <th>1</th>\n",
       "      <td>FOODS_3_586_TX_2_validation</td>\n",
       "      <td>FOODS_3_586</td>\n",
       "      <td>TX_2</td>\n",
       "      <td>147</td>\n",
       "      <td>2011-09-02</td>\n",
       "      <td>11131</td>\n",
       "      <td>4_Fri</td>\n",
       "      <td>9</td>\n",
       "      <td>2011</td>\n",
       "      <td>0</td>\n",
       "    </tr>\n",
       "    <tr>\n",
       "      <th>2</th>\n",
       "      <td>FOODS_3_586_TX_2_validation</td>\n",
       "      <td>FOODS_3_586</td>\n",
       "      <td>TX_2</td>\n",
       "      <td>177</td>\n",
       "      <td>2011-09-03</td>\n",
       "      <td>11132</td>\n",
       "      <td>5_Sat</td>\n",
       "      <td>9</td>\n",
       "      <td>2011</td>\n",
       "      <td>0</td>\n",
       "    </tr>\n",
       "    <tr>\n",
       "      <th>3</th>\n",
       "      <td>FOODS_3_586_TX_2_validation</td>\n",
       "      <td>FOODS_3_586</td>\n",
       "      <td>TX_2</td>\n",
       "      <td>88</td>\n",
       "      <td>2011-09-04</td>\n",
       "      <td>11132</td>\n",
       "      <td>6_Sun</td>\n",
       "      <td>9</td>\n",
       "      <td>2011</td>\n",
       "      <td>0</td>\n",
       "    </tr>\n",
       "    <tr>\n",
       "      <th>4</th>\n",
       "      <td>FOODS_3_586_TX_2_validation</td>\n",
       "      <td>FOODS_3_586</td>\n",
       "      <td>TX_2</td>\n",
       "      <td>138</td>\n",
       "      <td>2011-09-05</td>\n",
       "      <td>11132</td>\n",
       "      <td>0_Mon</td>\n",
       "      <td>9</td>\n",
       "      <td>2011</td>\n",
       "      <td>LaborDay</td>\n",
       "    </tr>\n",
       "  </tbody>\n",
       "</table>\n",
       "</div>"
      ],
      "text/plain": [
       "                            id      item_id store_id  value       date  \\\n",
       "0  FOODS_3_586_TX_2_validation  FOODS_3_586     TX_2    144 2011-09-01   \n",
       "1  FOODS_3_586_TX_2_validation  FOODS_3_586     TX_2    147 2011-09-02   \n",
       "2  FOODS_3_586_TX_2_validation  FOODS_3_586     TX_2    177 2011-09-03   \n",
       "3  FOODS_3_586_TX_2_validation  FOODS_3_586     TX_2     88 2011-09-04   \n",
       "4  FOODS_3_586_TX_2_validation  FOODS_3_586     TX_2    138 2011-09-05   \n",
       "\n",
       "   wm_yr_wk weekday  month  year   holiday  \n",
       "0     11131   3_Thu      9  2011         0  \n",
       "1     11131   4_Fri      9  2011         0  \n",
       "2     11132   5_Sat      9  2011         0  \n",
       "3     11132   6_Sun      9  2011         0  \n",
       "4     11132   0_Mon      9  2011  LaborDay  "
      ]
     },
     "execution_count": 25,
     "metadata": {},
     "output_type": "execute_result"
    }
   ],
   "source": [
    "df.head()"
   ]
  },
  {
   "cell_type": "markdown",
   "metadata": {},
   "source": [
    "### Join prices"
   ]
  },
  {
   "cell_type": "code",
   "execution_count": 26,
   "metadata": {},
   "outputs": [],
   "source": [
    "df = pd.merge(df, price, how='left', \n",
    "              left_on=['item_id', 'store_id', 'wm_yr_wk'], \n",
    "              right_on=['item_id', 'store_id', 'wm_yr_wk'])"
   ]
  },
  {
   "cell_type": "code",
   "execution_count": 27,
   "metadata": {},
   "outputs": [
    {
     "data": {
      "text/html": [
       "<div>\n",
       "<style scoped>\n",
       "    .dataframe tbody tr th:only-of-type {\n",
       "        vertical-align: middle;\n",
       "    }\n",
       "\n",
       "    .dataframe tbody tr th {\n",
       "        vertical-align: top;\n",
       "    }\n",
       "\n",
       "    .dataframe thead th {\n",
       "        text-align: right;\n",
       "    }\n",
       "</style>\n",
       "<table border=\"1\" class=\"dataframe\">\n",
       "  <thead>\n",
       "    <tr style=\"text-align: right;\">\n",
       "      <th></th>\n",
       "      <th>id</th>\n",
       "      <th>item_id</th>\n",
       "      <th>store_id</th>\n",
       "      <th>value</th>\n",
       "      <th>date</th>\n",
       "      <th>wm_yr_wk</th>\n",
       "      <th>weekday</th>\n",
       "      <th>month</th>\n",
       "      <th>year</th>\n",
       "      <th>holiday</th>\n",
       "      <th>sell_price</th>\n",
       "    </tr>\n",
       "  </thead>\n",
       "  <tbody>\n",
       "    <tr>\n",
       "      <th>0</th>\n",
       "      <td>FOODS_3_586_TX_2_validation</td>\n",
       "      <td>FOODS_3_586</td>\n",
       "      <td>TX_2</td>\n",
       "      <td>144</td>\n",
       "      <td>2011-09-01</td>\n",
       "      <td>11131</td>\n",
       "      <td>3_Thu</td>\n",
       "      <td>9</td>\n",
       "      <td>2011</td>\n",
       "      <td>0</td>\n",
       "      <td>1.48</td>\n",
       "    </tr>\n",
       "  </tbody>\n",
       "</table>\n",
       "</div>"
      ],
      "text/plain": [
       "                            id      item_id store_id  value       date  \\\n",
       "0  FOODS_3_586_TX_2_validation  FOODS_3_586     TX_2    144 2011-09-01   \n",
       "\n",
       "   wm_yr_wk weekday  month  year holiday  sell_price  \n",
       "0     11131   3_Thu      9  2011       0        1.48  "
      ]
     },
     "execution_count": 27,
     "metadata": {},
     "output_type": "execute_result"
    }
   ],
   "source": [
    "df.head(1)"
   ]
  },
  {
   "cell_type": "code",
   "execution_count": 28,
   "metadata": {},
   "outputs": [],
   "source": [
    "df.sort_values(by='date', inplace=True)"
   ]
  },
  {
   "cell_type": "code",
   "execution_count": 29,
   "metadata": {},
   "outputs": [
    {
     "data": {
      "image/png": "[encoded data removed]",
      "text/plain": [
       "<Figure size 864x432 with 2 Axes>"
      ]
     },
     "metadata": {
      "needs_background": "light"
     },
     "output_type": "display_data"
    }
   ],
   "source": [
    "fig, axs = plt.subplots(2, figsize=(12, 6))\n",
    "fig.suptitle('Vertically stacked subplots')\n",
    "axs[0].plot(df['date'], df['value'])\n",
    "axs[1].plot(df['date'], df['sell_price'])\n",
    "plt.show()"
   ]
  },
  {
   "cell_type": "code",
   "execution_count": 30,
   "metadata": {},
   "outputs": [
    {
     "data": {
      "text/html": [
       "<div>\n",
       "<style scoped>\n",
       "    .dataframe tbody tr th:only-of-type {\n",
       "        vertical-align: middle;\n",
       "    }\n",
       "\n",
       "    .dataframe tbody tr th {\n",
       "        vertical-align: top;\n",
       "    }\n",
       "\n",
       "    .dataframe thead th {\n",
       "        text-align: right;\n",
       "    }\n",
       "</style>\n",
       "<table border=\"1\" class=\"dataframe\">\n",
       "  <thead>\n",
       "    <tr style=\"text-align: right;\">\n",
       "      <th></th>\n",
       "      <th>id</th>\n",
       "      <th>item_id</th>\n",
       "      <th>store_id</th>\n",
       "      <th>value</th>\n",
       "      <th>date</th>\n",
       "      <th>wm_yr_wk</th>\n",
       "      <th>weekday</th>\n",
       "      <th>month</th>\n",
       "      <th>year</th>\n",
       "      <th>holiday</th>\n",
       "      <th>sell_price</th>\n",
       "    </tr>\n",
       "  </thead>\n",
       "  <tbody>\n",
       "    <tr>\n",
       "      <th>1693</th>\n",
       "      <td>FOODS_3_586_TX_2_validation</td>\n",
       "      <td>FOODS_3_586</td>\n",
       "      <td>TX_2</td>\n",
       "      <td>57</td>\n",
       "      <td>2016-04-20</td>\n",
       "      <td>11612</td>\n",
       "      <td>2_Wed</td>\n",
       "      <td>4</td>\n",
       "      <td>2016</td>\n",
       "      <td>0</td>\n",
       "      <td>1.68</td>\n",
       "    </tr>\n",
       "    <tr>\n",
       "      <th>1694</th>\n",
       "      <td>FOODS_3_586_TX_2_validation</td>\n",
       "      <td>FOODS_3_586</td>\n",
       "      <td>TX_2</td>\n",
       "      <td>59</td>\n",
       "      <td>2016-04-21</td>\n",
       "      <td>11612</td>\n",
       "      <td>3_Thu</td>\n",
       "      <td>4</td>\n",
       "      <td>2016</td>\n",
       "      <td>0</td>\n",
       "      <td>1.68</td>\n",
       "    </tr>\n",
       "    <tr>\n",
       "      <th>1695</th>\n",
       "      <td>FOODS_3_586_TX_2_validation</td>\n",
       "      <td>FOODS_3_586</td>\n",
       "      <td>TX_2</td>\n",
       "      <td>80</td>\n",
       "      <td>2016-04-22</td>\n",
       "      <td>11612</td>\n",
       "      <td>4_Fri</td>\n",
       "      <td>4</td>\n",
       "      <td>2016</td>\n",
       "      <td>0</td>\n",
       "      <td>1.68</td>\n",
       "    </tr>\n",
       "    <tr>\n",
       "      <th>1696</th>\n",
       "      <td>FOODS_3_586_TX_2_validation</td>\n",
       "      <td>FOODS_3_586</td>\n",
       "      <td>TX_2</td>\n",
       "      <td>100</td>\n",
       "      <td>2016-04-23</td>\n",
       "      <td>11613</td>\n",
       "      <td>5_Sat</td>\n",
       "      <td>4</td>\n",
       "      <td>2016</td>\n",
       "      <td>0</td>\n",
       "      <td>1.68</td>\n",
       "    </tr>\n",
       "    <tr>\n",
       "      <th>1697</th>\n",
       "      <td>FOODS_3_586_TX_2_validation</td>\n",
       "      <td>FOODS_3_586</td>\n",
       "      <td>TX_2</td>\n",
       "      <td>75</td>\n",
       "      <td>2016-04-24</td>\n",
       "      <td>11613</td>\n",
       "      <td>6_Sun</td>\n",
       "      <td>4</td>\n",
       "      <td>2016</td>\n",
       "      <td>0</td>\n",
       "      <td>1.68</td>\n",
       "    </tr>\n",
       "  </tbody>\n",
       "</table>\n",
       "</div>"
      ],
      "text/plain": [
       "                               id      item_id store_id  value       date  \\\n",
       "1693  FOODS_3_586_TX_2_validation  FOODS_3_586     TX_2     57 2016-04-20   \n",
       "1694  FOODS_3_586_TX_2_validation  FOODS_3_586     TX_2     59 2016-04-21   \n",
       "1695  FOODS_3_586_TX_2_validation  FOODS_3_586     TX_2     80 2016-04-22   \n",
       "1696  FOODS_3_586_TX_2_validation  FOODS_3_586     TX_2    100 2016-04-23   \n",
       "1697  FOODS_3_586_TX_2_validation  FOODS_3_586     TX_2     75 2016-04-24   \n",
       "\n",
       "      wm_yr_wk weekday  month  year holiday  sell_price  \n",
       "1693     11612   2_Wed      4  2016       0        1.68  \n",
       "1694     11612   3_Thu      4  2016       0        1.68  \n",
       "1695     11612   4_Fri      4  2016       0        1.68  \n",
       "1696     11613   5_Sat      4  2016       0        1.68  \n",
       "1697     11613   6_Sun      4  2016       0        1.68  "
      ]
     },
     "execution_count": 30,
     "metadata": {},
     "output_type": "execute_result"
    }
   ],
   "source": [
    "df.tail()"
   ]
  },
  {
   "cell_type": "markdown",
   "metadata": {},
   "source": [
    "### Add: weeknum"
   ]
  },
  {
   "cell_type": "code",
   "execution_count": 31,
   "metadata": {},
   "outputs": [],
   "source": [
    "df['weeknum'] = df['date'].dt.week"
   ]
  },
  {
   "cell_type": "markdown",
   "metadata": {},
   "source": [
    "---"
   ]
  },
  {
   "cell_type": "markdown",
   "metadata": {},
   "source": [
    "## Exploratory Data"
   ]
  },
  {
   "cell_type": "markdown",
   "metadata": {},
   "source": [
    "### Daily Trends"
   ]
  },
  {
   "cell_type": "code",
   "execution_count": 32,
   "metadata": {},
   "outputs": [
    {
     "data": {
      "image/png": "[encoded data removed]",
      "text/plain": [
       "<Figure size 864x432 with 1 Axes>"
      ]
     },
     "metadata": {
      "needs_background": "light"
     },
     "output_type": "display_data"
    }
   ],
   "source": [
    "plt.figure(figsize=(12, 6))\n",
    "plt.plot(df['date'], df['value'])\n",
    "plt.show()"
   ]
  },
  {
   "cell_type": "markdown",
   "metadata": {},
   "source": [
    "### Sales by year"
   ]
  },
  {
   "cell_type": "code",
   "execution_count": 33,
   "metadata": {},
   "outputs": [
    {
     "data": {
      "image/png": "[encoded data removed]",
      "text/plain": [
       "<Figure size 864x432 with 1 Axes>"
      ]
     },
     "metadata": {
      "needs_background": "light"
     },
     "output_type": "display_data"
    }
   ],
   "source": [
    "plt.figure(figsize=(12, 6))\n",
    "flag = df['year'] > 2010\n",
    "sns.boxplot(x='year', y='value', data=df[flag])\n",
    "plt.show()"
   ]
  },
  {
   "cell_type": "markdown",
   "metadata": {},
   "source": [
    "### Sales by month"
   ]
  },
  {
   "cell_type": "code",
   "execution_count": 34,
   "metadata": {},
   "outputs": [
    {
     "data": {
      "text/plain": [
       "<matplotlib.legend.Legend at 0x2511c168668>"
      ]
     },
     "execution_count": 34,
     "metadata": {},
     "output_type": "execute_result"
    },
    {
     "data": {
      "image/png": "[encoded data removed]",
      "text/plain": [
       "<Figure size 864x432 with 1 Axes>"
      ]
     },
     "metadata": {
      "needs_background": "light"
     },
     "output_type": "display_data"
    }
   ],
   "source": [
    "flag = df['year'] > 2010\n",
    "df_filter = df[flag]\n",
    "plt.figure(figsize=(12, 6))\n",
    "for year in df_filter['year'].unique():\n",
    "    flag_year = df_filter['year'] == year\n",
    "    agg = df_filter[flag_year].groupby(by='month').median()\n",
    "    plt.plot(agg['value'], '-o', label=year)\n",
    "plt.legend()"
   ]
  },
  {
   "cell_type": "markdown",
   "metadata": {},
   "source": [
    "### Sales by weekday"
   ]
  },
  {
   "cell_type": "code",
   "execution_count": 35,
   "metadata": {},
   "outputs": [
    {
     "data": {
      "image/png": "[encoded data removed]",
      "text/plain": [
       "<Figure size 864x432 with 1 Axes>"
      ]
     },
     "metadata": {
      "needs_background": "light"
     },
     "output_type": "display_data"
    }
   ],
   "source": [
    "flag = df['year'] > 2010\n",
    "df_filter = df[flag]\n",
    "plt.figure(figsize=(12, 6))\n",
    "for year in df_filter['year'].unique():\n",
    "    flag_year = df_filter['year'] == year\n",
    "    agg = df_filter[flag_year].groupby(by='weekday').median()\n",
    "    plt.plot(agg['value'], '-o', label=year)\n",
    "plt.legend()\n",
    "plt.show()"
   ]
  },
  {
   "cell_type": "markdown",
   "metadata": {},
   "source": [
    "### Sales Distribution"
   ]
  },
  {
   "cell_type": "code",
   "execution_count": 36,
   "metadata": {},
   "outputs": [
    {
     "data": {
      "image/png": "[encoded data removed]",
      "text/plain": [
       "<Figure size 432x288 with 1 Axes>"
      ]
     },
     "metadata": {
      "needs_background": "light"
     },
     "output_type": "display_data"
    }
   ],
   "source": [
    "plt.hist(df['value'], bins=25)\n",
    "plt.show()"
   ]
  },
  {
   "cell_type": "code",
   "execution_count": 37,
   "metadata": {},
   "outputs": [
    {
     "data": {
      "image/png": "[encoded data removed]",
      "text/plain": [
       "<Figure size 432x288 with 1 Axes>"
      ]
     },
     "metadata": {
      "needs_background": "light"
     },
     "output_type": "display_data"
    }
   ],
   "source": [
    "df['adj_value'], boxcox_lambda = boxcox(df['value']+1)\n",
    "plt.hist(df['adj_value'], bins=25)\n",
    "title = 'BoxCox Lambda: {:.3f}'.format(boxcox_lambda)\n",
    "plt.title(title)\n",
    "plt.show()"
   ]
  },
  {
   "cell_type": "markdown",
   "metadata": {},
   "source": [
    "---"
   ]
  },
  {
   "cell_type": "markdown",
   "metadata": {},
   "source": [
    "## Auxiliary Functions"
   ]
  },
  {
   "cell_type": "code",
   "execution_count": 39,
   "metadata": {},
   "outputs": [],
   "source": [
    "def mape(df, actual, model):\n",
    "    diff = df[actual] - df[model]\n",
    "    return np.mean(abs(diff/df[actual]))"
   ]
  },
  {
   "cell_type": "code",
   "execution_count": 40,
   "metadata": {},
   "outputs": [],
   "source": [
    "def plot_model(train, test, model):\n",
    "    plt.figure(figsize=(12, 6))\n",
    "    plt.plot(train[metric], label='train')\n",
    "    plt.plot(test[metric], label='test: actual')\n",
    "    plt.plot(test[model], label='test: '+model)\n",
    "    cmape = mape(test, metric, model)\n",
    "    title = 'Model: ' + model + ' (MAPE: ' + str(round(cmape, 4)) + ')'\n",
    "    plt.title(title, fontsize=15)\n",
    "    plt.legend()\n",
    "    plt.show()"
   ]
  },
  {
   "cell_type": "code",
   "execution_count": 38,
   "metadata": {},
   "outputs": [],
   "source": [
    "def train_test_split(df, split):\n",
    "    n_split = int(df.shape[0]*split)\n",
    "    train = df[:n_split]\n",
    "    test = df[n_split:]\n",
    "    return train, test"
   ]
  },
  {
   "cell_type": "markdown",
   "metadata": {},
   "source": [
    "---"
   ]
  },
  {
   "cell_type": "markdown",
   "metadata": {},
   "source": [
    "## Monthly Model: without exogenous variables"
   ]
  },
  {
   "cell_type": "code",
   "execution_count": 39,
   "metadata": {},
   "outputs": [
    {
     "data": {
      "text/html": [
       "<div>\n",
       "<style scoped>\n",
       "    .dataframe tbody tr th:only-of-type {\n",
       "        vertical-align: middle;\n",
       "    }\n",
       "\n",
       "    .dataframe tbody tr th {\n",
       "        vertical-align: top;\n",
       "    }\n",
       "\n",
       "    .dataframe thead th {\n",
       "        text-align: right;\n",
       "    }\n",
       "</style>\n",
       "<table border=\"1\" class=\"dataframe\">\n",
       "  <thead>\n",
       "    <tr style=\"text-align: right;\">\n",
       "      <th></th>\n",
       "      <th>id</th>\n",
       "      <th>item_id</th>\n",
       "      <th>store_id</th>\n",
       "      <th>value</th>\n",
       "      <th>date</th>\n",
       "      <th>wm_yr_wk</th>\n",
       "      <th>weekday</th>\n",
       "      <th>month</th>\n",
       "      <th>year</th>\n",
       "      <th>holiday</th>\n",
       "      <th>sell_price</th>\n",
       "      <th>weeknum</th>\n",
       "      <th>adj_value</th>\n",
       "    </tr>\n",
       "  </thead>\n",
       "  <tbody>\n",
       "    <tr>\n",
       "      <th>0</th>\n",
       "      <td>FOODS_3_586_TX_2_validation</td>\n",
       "      <td>FOODS_3_586</td>\n",
       "      <td>TX_2</td>\n",
       "      <td>144</td>\n",
       "      <td>2011-09-01</td>\n",
       "      <td>11131</td>\n",
       "      <td>3_Thu</td>\n",
       "      <td>9</td>\n",
       "      <td>2011</td>\n",
       "      <td>0</td>\n",
       "      <td>1.48</td>\n",
       "      <td>35</td>\n",
       "      <td>58.922000</td>\n",
       "    </tr>\n",
       "    <tr>\n",
       "      <th>1</th>\n",
       "      <td>FOODS_3_586_TX_2_validation</td>\n",
       "      <td>FOODS_3_586</td>\n",
       "      <td>TX_2</td>\n",
       "      <td>147</td>\n",
       "      <td>2011-09-02</td>\n",
       "      <td>11131</td>\n",
       "      <td>4_Fri</td>\n",
       "      <td>9</td>\n",
       "      <td>2011</td>\n",
       "      <td>0</td>\n",
       "      <td>1.48</td>\n",
       "      <td>35</td>\n",
       "      <td>59.880625</td>\n",
       "    </tr>\n",
       "    <tr>\n",
       "      <th>2</th>\n",
       "      <td>FOODS_3_586_TX_2_validation</td>\n",
       "      <td>FOODS_3_586</td>\n",
       "      <td>TX_2</td>\n",
       "      <td>177</td>\n",
       "      <td>2011-09-03</td>\n",
       "      <td>11132</td>\n",
       "      <td>5_Sat</td>\n",
       "      <td>9</td>\n",
       "      <td>2011</td>\n",
       "      <td>0</td>\n",
       "      <td>1.48</td>\n",
       "      <td>35</td>\n",
       "      <td>69.239334</td>\n",
       "    </tr>\n",
       "    <tr>\n",
       "      <th>3</th>\n",
       "      <td>FOODS_3_586_TX_2_validation</td>\n",
       "      <td>FOODS_3_586</td>\n",
       "      <td>TX_2</td>\n",
       "      <td>88</td>\n",
       "      <td>2011-09-04</td>\n",
       "      <td>11132</td>\n",
       "      <td>6_Sun</td>\n",
       "      <td>9</td>\n",
       "      <td>2011</td>\n",
       "      <td>0</td>\n",
       "      <td>1.48</td>\n",
       "      <td>35</td>\n",
       "      <td>40.031591</td>\n",
       "    </tr>\n",
       "    <tr>\n",
       "      <th>4</th>\n",
       "      <td>FOODS_3_586_TX_2_validation</td>\n",
       "      <td>FOODS_3_586</td>\n",
       "      <td>TX_2</td>\n",
       "      <td>138</td>\n",
       "      <td>2011-09-05</td>\n",
       "      <td>11132</td>\n",
       "      <td>0_Mon</td>\n",
       "      <td>9</td>\n",
       "      <td>2011</td>\n",
       "      <td>LaborDay</td>\n",
       "      <td>1.48</td>\n",
       "      <td>36</td>\n",
       "      <td>56.990987</td>\n",
       "    </tr>\n",
       "  </tbody>\n",
       "</table>\n",
       "</div>"
      ],
      "text/plain": [
       "                            id      item_id store_id  value       date  \\\n",
       "0  FOODS_3_586_TX_2_validation  FOODS_3_586     TX_2    144 2011-09-01   \n",
       "1  FOODS_3_586_TX_2_validation  FOODS_3_586     TX_2    147 2011-09-02   \n",
       "2  FOODS_3_586_TX_2_validation  FOODS_3_586     TX_2    177 2011-09-03   \n",
       "3  FOODS_3_586_TX_2_validation  FOODS_3_586     TX_2     88 2011-09-04   \n",
       "4  FOODS_3_586_TX_2_validation  FOODS_3_586     TX_2    138 2011-09-05   \n",
       "\n",
       "   wm_yr_wk weekday  month  year   holiday  sell_price  weeknum  adj_value  \n",
       "0     11131   3_Thu      9  2011         0        1.48       35  58.922000  \n",
       "1     11131   4_Fri      9  2011         0        1.48       35  59.880625  \n",
       "2     11132   5_Sat      9  2011         0        1.48       35  69.239334  \n",
       "3     11132   6_Sun      9  2011         0        1.48       35  40.031591  \n",
       "4     11132   0_Mon      9  2011  LaborDay        1.48       36  56.990987  "
      ]
     },
     "execution_count": 39,
     "metadata": {},
     "output_type": "execute_result"
    }
   ],
   "source": [
    "df.head()"
   ]
  },
  {
   "cell_type": "code",
   "execution_count": 40,
   "metadata": {},
   "outputs": [],
   "source": [
    "dfc = df.drop(['id', 'item_id', 'store_id', 'wm_yr_wk', 'year', 'weeknum'], axis=1).copy()"
   ]
  },
  {
   "cell_type": "code",
   "execution_count": 41,
   "metadata": {},
   "outputs": [],
   "source": [
    "min_date = dfc['date'].min()\n",
    "dfc['dt'] = df['date'].apply(lambda x: (x-min_date).days)\n",
    "dfc['dt2'] = dfc['dt']**2\n",
    "dfc.set_index('date', inplace=True)"
   ]
  },
  {
   "cell_type": "code",
   "execution_count": 42,
   "metadata": {},
   "outputs": [
    {
     "data": {
      "text/html": [
       "<div>\n",
       "<style scoped>\n",
       "    .dataframe tbody tr th:only-of-type {\n",
       "        vertical-align: middle;\n",
       "    }\n",
       "\n",
       "    .dataframe tbody tr th {\n",
       "        vertical-align: top;\n",
       "    }\n",
       "\n",
       "    .dataframe thead th {\n",
       "        text-align: right;\n",
       "    }\n",
       "</style>\n",
       "<table border=\"1\" class=\"dataframe\">\n",
       "  <thead>\n",
       "    <tr style=\"text-align: right;\">\n",
       "      <th></th>\n",
       "      <th>value</th>\n",
       "      <th>sell_price</th>\n",
       "      <th>adj_value</th>\n",
       "      <th>dt</th>\n",
       "      <th>dt2</th>\n",
       "      <th>weekday_1_Tue</th>\n",
       "      <th>weekday_2_Wed</th>\n",
       "      <th>weekday_3_Thu</th>\n",
       "      <th>weekday_4_Fri</th>\n",
       "      <th>weekday_5_Sat</th>\n",
       "      <th>...</th>\n",
       "      <th>holiday_IndependenceDay</th>\n",
       "      <th>holiday_LaborDay</th>\n",
       "      <th>holiday_Mother's day</th>\n",
       "      <th>holiday_NBAFinalsEnd</th>\n",
       "      <th>holiday_NBAFinalsStart</th>\n",
       "      <th>holiday_NewYear</th>\n",
       "      <th>holiday_Ramadan starts</th>\n",
       "      <th>holiday_SuperBowl</th>\n",
       "      <th>holiday_Thanksgiving</th>\n",
       "      <th>holiday_ValentinesDay</th>\n",
       "    </tr>\n",
       "    <tr>\n",
       "      <th>date</th>\n",
       "      <th></th>\n",
       "      <th></th>\n",
       "      <th></th>\n",
       "      <th></th>\n",
       "      <th></th>\n",
       "      <th></th>\n",
       "      <th></th>\n",
       "      <th></th>\n",
       "      <th></th>\n",
       "      <th></th>\n",
       "      <th></th>\n",
       "      <th></th>\n",
       "      <th></th>\n",
       "      <th></th>\n",
       "      <th></th>\n",
       "      <th></th>\n",
       "      <th></th>\n",
       "      <th></th>\n",
       "      <th></th>\n",
       "      <th></th>\n",
       "      <th></th>\n",
       "    </tr>\n",
       "  </thead>\n",
       "  <tbody>\n",
       "    <tr>\n",
       "      <th>2011-09-01</th>\n",
       "      <td>144</td>\n",
       "      <td>1.48</td>\n",
       "      <td>58.922000</td>\n",
       "      <td>0</td>\n",
       "      <td>0</td>\n",
       "      <td>0</td>\n",
       "      <td>0</td>\n",
       "      <td>1</td>\n",
       "      <td>0</td>\n",
       "      <td>0</td>\n",
       "      <td>...</td>\n",
       "      <td>0</td>\n",
       "      <td>0</td>\n",
       "      <td>0</td>\n",
       "      <td>0</td>\n",
       "      <td>0</td>\n",
       "      <td>0</td>\n",
       "      <td>0</td>\n",
       "      <td>0</td>\n",
       "      <td>0</td>\n",
       "      <td>0</td>\n",
       "    </tr>\n",
       "    <tr>\n",
       "      <th>2011-09-02</th>\n",
       "      <td>147</td>\n",
       "      <td>1.48</td>\n",
       "      <td>59.880625</td>\n",
       "      <td>1</td>\n",
       "      <td>1</td>\n",
       "      <td>0</td>\n",
       "      <td>0</td>\n",
       "      <td>0</td>\n",
       "      <td>1</td>\n",
       "      <td>0</td>\n",
       "      <td>...</td>\n",
       "      <td>0</td>\n",
       "      <td>0</td>\n",
       "      <td>0</td>\n",
       "      <td>0</td>\n",
       "      <td>0</td>\n",
       "      <td>0</td>\n",
       "      <td>0</td>\n",
       "      <td>0</td>\n",
       "      <td>0</td>\n",
       "      <td>0</td>\n",
       "    </tr>\n",
       "    <tr>\n",
       "      <th>2011-09-03</th>\n",
       "      <td>177</td>\n",
       "      <td>1.48</td>\n",
       "      <td>69.239334</td>\n",
       "      <td>2</td>\n",
       "      <td>4</td>\n",
       "      <td>0</td>\n",
       "      <td>0</td>\n",
       "      <td>0</td>\n",
       "      <td>0</td>\n",
       "      <td>1</td>\n",
       "      <td>...</td>\n",
       "      <td>0</td>\n",
       "      <td>0</td>\n",
       "      <td>0</td>\n",
       "      <td>0</td>\n",
       "      <td>0</td>\n",
       "      <td>0</td>\n",
       "      <td>0</td>\n",
       "      <td>0</td>\n",
       "      <td>0</td>\n",
       "      <td>0</td>\n",
       "    </tr>\n",
       "    <tr>\n",
       "      <th>2011-09-04</th>\n",
       "      <td>88</td>\n",
       "      <td>1.48</td>\n",
       "      <td>40.031591</td>\n",
       "      <td>3</td>\n",
       "      <td>9</td>\n",
       "      <td>0</td>\n",
       "      <td>0</td>\n",
       "      <td>0</td>\n",
       "      <td>0</td>\n",
       "      <td>0</td>\n",
       "      <td>...</td>\n",
       "      <td>0</td>\n",
       "      <td>0</td>\n",
       "      <td>0</td>\n",
       "      <td>0</td>\n",
       "      <td>0</td>\n",
       "      <td>0</td>\n",
       "      <td>0</td>\n",
       "      <td>0</td>\n",
       "      <td>0</td>\n",
       "      <td>0</td>\n",
       "    </tr>\n",
       "    <tr>\n",
       "      <th>2011-09-05</th>\n",
       "      <td>138</td>\n",
       "      <td>1.48</td>\n",
       "      <td>56.990987</td>\n",
       "      <td>4</td>\n",
       "      <td>16</td>\n",
       "      <td>0</td>\n",
       "      <td>0</td>\n",
       "      <td>0</td>\n",
       "      <td>0</td>\n",
       "      <td>0</td>\n",
       "      <td>...</td>\n",
       "      <td>0</td>\n",
       "      <td>1</td>\n",
       "      <td>0</td>\n",
       "      <td>0</td>\n",
       "      <td>0</td>\n",
       "      <td>0</td>\n",
       "      <td>0</td>\n",
       "      <td>0</td>\n",
       "      <td>0</td>\n",
       "      <td>0</td>\n",
       "    </tr>\n",
       "  </tbody>\n",
       "</table>\n",
       "<p>5 rows × 39 columns</p>\n",
       "</div>"
      ],
      "text/plain": [
       "            value  sell_price  adj_value  dt  dt2  weekday_1_Tue  \\\n",
       "date                                                               \n",
       "2011-09-01    144        1.48  58.922000   0    0              0   \n",
       "2011-09-02    147        1.48  59.880625   1    1              0   \n",
       "2011-09-03    177        1.48  69.239334   2    4              0   \n",
       "2011-09-04     88        1.48  40.031591   3    9              0   \n",
       "2011-09-05    138        1.48  56.990987   4   16              0   \n",
       "\n",
       "            weekday_2_Wed  weekday_3_Thu  weekday_4_Fri  weekday_5_Sat  ...  \\\n",
       "date                                                                    ...   \n",
       "2011-09-01              0              1              0              0  ...   \n",
       "2011-09-02              0              0              1              0  ...   \n",
       "2011-09-03              0              0              0              1  ...   \n",
       "2011-09-04              0              0              0              0  ...   \n",
       "2011-09-05              0              0              0              0  ...   \n",
       "\n",
       "            holiday_IndependenceDay  holiday_LaborDay  holiday_Mother's day  \\\n",
       "date                                                                          \n",
       "2011-09-01                        0                 0                     0   \n",
       "2011-09-02                        0                 0                     0   \n",
       "2011-09-03                        0                 0                     0   \n",
       "2011-09-04                        0                 0                     0   \n",
       "2011-09-05                        0                 1                     0   \n",
       "\n",
       "            holiday_NBAFinalsEnd  holiday_NBAFinalsStart  holiday_NewYear  \\\n",
       "date                                                                        \n",
       "2011-09-01                     0                       0                0   \n",
       "2011-09-02                     0                       0                0   \n",
       "2011-09-03                     0                       0                0   \n",
       "2011-09-04                     0                       0                0   \n",
       "2011-09-05                     0                       0                0   \n",
       "\n",
       "            holiday_Ramadan starts  holiday_SuperBowl  holiday_Thanksgiving  \\\n",
       "date                                                                          \n",
       "2011-09-01                       0                  0                     0   \n",
       "2011-09-02                       0                  0                     0   \n",
       "2011-09-03                       0                  0                     0   \n",
       "2011-09-04                       0                  0                     0   \n",
       "2011-09-05                       0                  0                     0   \n",
       "\n",
       "            holiday_ValentinesDay  \n",
       "date                               \n",
       "2011-09-01                      0  \n",
       "2011-09-02                      0  \n",
       "2011-09-03                      0  \n",
       "2011-09-04                      0  \n",
       "2011-09-05                      0  \n",
       "\n",
       "[5 rows x 39 columns]"
      ]
     },
     "execution_count": 42,
     "metadata": {},
     "output_type": "execute_result"
    }
   ],
   "source": [
    "df_dummies = pd.get_dummies(dfc, columns=['weekday', 'month', 'holiday'], drop_first=True)\n",
    "df_dummies.head()"
   ]
  },
  {
   "cell_type": "code",
   "execution_count": 43,
   "metadata": {},
   "outputs": [],
   "source": [
    "scaler = StandardScaler()\n",
    "X_std = scaler.fit_transform(df_dummies.drop('value', axis=1))"
   ]
  },
  {
   "cell_type": "code",
   "execution_count": 44,
   "metadata": {},
   "outputs": [],
   "source": [
    "X_std = pd.DataFrame(X_std, columns=df_dummies.drop('value', axis=1).columns, index=df_dummies.index)"
   ]
  },
  {
   "cell_type": "code",
   "execution_count": 45,
   "metadata": {},
   "outputs": [
    {
     "data": {
      "text/html": [
       "<div>\n",
       "<style scoped>\n",
       "    .dataframe tbody tr th:only-of-type {\n",
       "        vertical-align: middle;\n",
       "    }\n",
       "\n",
       "    .dataframe tbody tr th {\n",
       "        vertical-align: top;\n",
       "    }\n",
       "\n",
       "    .dataframe thead th {\n",
       "        text-align: right;\n",
       "    }\n",
       "</style>\n",
       "<table border=\"1\" class=\"dataframe\">\n",
       "  <thead>\n",
       "    <tr style=\"text-align: right;\">\n",
       "      <th></th>\n",
       "      <th>sell_price</th>\n",
       "      <th>adj_value</th>\n",
       "      <th>dt</th>\n",
       "      <th>dt2</th>\n",
       "      <th>weekday_1_Tue</th>\n",
       "      <th>weekday_2_Wed</th>\n",
       "      <th>weekday_3_Thu</th>\n",
       "      <th>weekday_4_Fri</th>\n",
       "      <th>weekday_5_Sat</th>\n",
       "      <th>weekday_6_Sun</th>\n",
       "      <th>...</th>\n",
       "      <th>holiday_IndependenceDay</th>\n",
       "      <th>holiday_LaborDay</th>\n",
       "      <th>holiday_Mother's day</th>\n",
       "      <th>holiday_NBAFinalsEnd</th>\n",
       "      <th>holiday_NBAFinalsStart</th>\n",
       "      <th>holiday_NewYear</th>\n",
       "      <th>holiday_Ramadan starts</th>\n",
       "      <th>holiday_SuperBowl</th>\n",
       "      <th>holiday_Thanksgiving</th>\n",
       "      <th>holiday_ValentinesDay</th>\n",
       "    </tr>\n",
       "    <tr>\n",
       "      <th>date</th>\n",
       "      <th></th>\n",
       "      <th></th>\n",
       "      <th></th>\n",
       "      <th></th>\n",
       "      <th></th>\n",
       "      <th></th>\n",
       "      <th></th>\n",
       "      <th></th>\n",
       "      <th></th>\n",
       "      <th></th>\n",
       "      <th></th>\n",
       "      <th></th>\n",
       "      <th></th>\n",
       "      <th></th>\n",
       "      <th></th>\n",
       "      <th></th>\n",
       "      <th></th>\n",
       "      <th></th>\n",
       "      <th></th>\n",
       "      <th></th>\n",
       "      <th></th>\n",
       "    </tr>\n",
       "  </thead>\n",
       "  <tbody>\n",
       "    <tr>\n",
       "      <th>2011-09-01</th>\n",
       "      <td>-2.017477</td>\n",
       "      <td>1.336108</td>\n",
       "      <td>-1.731031</td>\n",
       "      <td>-1.117664</td>\n",
       "      <td>-0.407687</td>\n",
       "      <td>-0.407687</td>\n",
       "      <td>2.446968</td>\n",
       "      <td>-0.408669</td>\n",
       "      <td>-0.408669</td>\n",
       "      <td>-0.408669</td>\n",
       "      <td>...</td>\n",
       "      <td>-0.048593</td>\n",
       "      <td>-0.054345</td>\n",
       "      <td>-0.048593</td>\n",
       "      <td>-0.048593</td>\n",
       "      <td>-0.048593</td>\n",
       "      <td>-0.054345</td>\n",
       "      <td>-0.048593</td>\n",
       "      <td>-0.054345</td>\n",
       "      <td>-0.054345</td>\n",
       "      <td>-0.054345</td>\n",
       "    </tr>\n",
       "    <tr>\n",
       "      <th>2011-09-02</th>\n",
       "      <td>-2.017477</td>\n",
       "      <td>1.424509</td>\n",
       "      <td>-1.728991</td>\n",
       "      <td>-1.117663</td>\n",
       "      <td>-0.407687</td>\n",
       "      <td>-0.407687</td>\n",
       "      <td>-0.408669</td>\n",
       "      <td>2.446968</td>\n",
       "      <td>-0.408669</td>\n",
       "      <td>-0.408669</td>\n",
       "      <td>...</td>\n",
       "      <td>-0.048593</td>\n",
       "      <td>-0.054345</td>\n",
       "      <td>-0.048593</td>\n",
       "      <td>-0.048593</td>\n",
       "      <td>-0.048593</td>\n",
       "      <td>-0.054345</td>\n",
       "      <td>-0.048593</td>\n",
       "      <td>-0.054345</td>\n",
       "      <td>-0.054345</td>\n",
       "      <td>-0.054345</td>\n",
       "    </tr>\n",
       "    <tr>\n",
       "      <th>2011-09-03</th>\n",
       "      <td>-2.017477</td>\n",
       "      <td>2.287527</td>\n",
       "      <td>-1.726951</td>\n",
       "      <td>-1.117659</td>\n",
       "      <td>-0.407687</td>\n",
       "      <td>-0.407687</td>\n",
       "      <td>-0.408669</td>\n",
       "      <td>-0.408669</td>\n",
       "      <td>2.446968</td>\n",
       "      <td>-0.408669</td>\n",
       "      <td>...</td>\n",
       "      <td>-0.048593</td>\n",
       "      <td>-0.054345</td>\n",
       "      <td>-0.048593</td>\n",
       "      <td>-0.048593</td>\n",
       "      <td>-0.048593</td>\n",
       "      <td>-0.054345</td>\n",
       "      <td>-0.048593</td>\n",
       "      <td>-0.054345</td>\n",
       "      <td>-0.054345</td>\n",
       "      <td>-0.054345</td>\n",
       "    </tr>\n",
       "    <tr>\n",
       "      <th>2011-09-04</th>\n",
       "      <td>-2.017477</td>\n",
       "      <td>-0.405880</td>\n",
       "      <td>-1.724911</td>\n",
       "      <td>-1.117653</td>\n",
       "      <td>-0.407687</td>\n",
       "      <td>-0.407687</td>\n",
       "      <td>-0.408669</td>\n",
       "      <td>-0.408669</td>\n",
       "      <td>-0.408669</td>\n",
       "      <td>2.446968</td>\n",
       "      <td>...</td>\n",
       "      <td>-0.048593</td>\n",
       "      <td>-0.054345</td>\n",
       "      <td>-0.048593</td>\n",
       "      <td>-0.048593</td>\n",
       "      <td>-0.048593</td>\n",
       "      <td>-0.054345</td>\n",
       "      <td>-0.048593</td>\n",
       "      <td>-0.054345</td>\n",
       "      <td>-0.054345</td>\n",
       "      <td>-0.054345</td>\n",
       "    </tr>\n",
       "    <tr>\n",
       "      <th>2011-09-05</th>\n",
       "      <td>-2.017477</td>\n",
       "      <td>1.158039</td>\n",
       "      <td>-1.722871</td>\n",
       "      <td>-1.117645</td>\n",
       "      <td>-0.407687</td>\n",
       "      <td>-0.407687</td>\n",
       "      <td>-0.408669</td>\n",
       "      <td>-0.408669</td>\n",
       "      <td>-0.408669</td>\n",
       "      <td>-0.408669</td>\n",
       "      <td>...</td>\n",
       "      <td>-0.048593</td>\n",
       "      <td>18.401087</td>\n",
       "      <td>-0.048593</td>\n",
       "      <td>-0.048593</td>\n",
       "      <td>-0.048593</td>\n",
       "      <td>-0.054345</td>\n",
       "      <td>-0.048593</td>\n",
       "      <td>-0.054345</td>\n",
       "      <td>-0.054345</td>\n",
       "      <td>-0.054345</td>\n",
       "    </tr>\n",
       "  </tbody>\n",
       "</table>\n",
       "<p>5 rows × 38 columns</p>\n",
       "</div>"
      ],
      "text/plain": [
       "            sell_price  adj_value        dt       dt2  weekday_1_Tue  \\\n",
       "date                                                                   \n",
       "2011-09-01   -2.017477   1.336108 -1.731031 -1.117664      -0.407687   \n",
       "2011-09-02   -2.017477   1.424509 -1.728991 -1.117663      -0.407687   \n",
       "2011-09-03   -2.017477   2.287527 -1.726951 -1.117659      -0.407687   \n",
       "2011-09-04   -2.017477  -0.405880 -1.724911 -1.117653      -0.407687   \n",
       "2011-09-05   -2.017477   1.158039 -1.722871 -1.117645      -0.407687   \n",
       "\n",
       "            weekday_2_Wed  weekday_3_Thu  weekday_4_Fri  weekday_5_Sat  \\\n",
       "date                                                                     \n",
       "2011-09-01      -0.407687       2.446968      -0.408669      -0.408669   \n",
       "2011-09-02      -0.407687      -0.408669       2.446968      -0.408669   \n",
       "2011-09-03      -0.407687      -0.408669      -0.408669       2.446968   \n",
       "2011-09-04      -0.407687      -0.408669      -0.408669      -0.408669   \n",
       "2011-09-05      -0.407687      -0.408669      -0.408669      -0.408669   \n",
       "\n",
       "            weekday_6_Sun  ...  holiday_IndependenceDay  holiday_LaborDay  \\\n",
       "date                       ...                                              \n",
       "2011-09-01      -0.408669  ...                -0.048593         -0.054345   \n",
       "2011-09-02      -0.408669  ...                -0.048593         -0.054345   \n",
       "2011-09-03      -0.408669  ...                -0.048593         -0.054345   \n",
       "2011-09-04       2.446968  ...                -0.048593         -0.054345   \n",
       "2011-09-05      -0.408669  ...                -0.048593         18.401087   \n",
       "\n",
       "            holiday_Mother's day  holiday_NBAFinalsEnd  \\\n",
       "date                                                     \n",
       "2011-09-01             -0.048593             -0.048593   \n",
       "2011-09-02             -0.048593             -0.048593   \n",
       "2011-09-03             -0.048593             -0.048593   \n",
       "2011-09-04             -0.048593             -0.048593   \n",
       "2011-09-05             -0.048593             -0.048593   \n",
       "\n",
       "            holiday_NBAFinalsStart  holiday_NewYear  holiday_Ramadan starts  \\\n",
       "date                                                                          \n",
       "2011-09-01               -0.048593        -0.054345               -0.048593   \n",
       "2011-09-02               -0.048593        -0.054345               -0.048593   \n",
       "2011-09-03               -0.048593        -0.054345               -0.048593   \n",
       "2011-09-04               -0.048593        -0.054345               -0.048593   \n",
       "2011-09-05               -0.048593        -0.054345               -0.048593   \n",
       "\n",
       "            holiday_SuperBowl  holiday_Thanksgiving  holiday_ValentinesDay  \n",
       "date                                                                        \n",
       "2011-09-01          -0.054345             -0.054345              -0.054345  \n",
       "2011-09-02          -0.054345             -0.054345              -0.054345  \n",
       "2011-09-03          -0.054345             -0.054345              -0.054345  \n",
       "2011-09-04          -0.054345             -0.054345              -0.054345  \n",
       "2011-09-05          -0.054345             -0.054345              -0.054345  \n",
       "\n",
       "[5 rows x 38 columns]"
      ]
     },
     "execution_count": 45,
     "metadata": {},
     "output_type": "execute_result"
    }
   ],
   "source": [
    "X_std.head()"
   ]
  },
  {
   "cell_type": "code",
   "execution_count": 46,
   "metadata": {},
   "outputs": [],
   "source": [
    "lr = LinearRegression()"
   ]
  },
  {
   "cell_type": "code",
   "execution_count": 47,
   "metadata": {},
   "outputs": [
    {
     "data": {
      "text/plain": [
       "LinearRegression(copy_X=True, fit_intercept=True, n_jobs=None, normalize=False)"
      ]
     },
     "execution_count": 47,
     "metadata": {},
     "output_type": "execute_result"
    }
   ],
   "source": [
    "lr.fit(X=X_std, y=df_dummies['value'])"
   ]
  },
  {
   "cell_type": "code",
   "execution_count": 48,
   "metadata": {},
   "outputs": [],
   "source": [
    "y_pred = lr.predict(X_std)"
   ]
  },
  {
   "cell_type": "code",
   "execution_count": 49,
   "metadata": {},
   "outputs": [
    {
     "data": {
      "text/plain": [
       "(1698,)"
      ]
     },
     "execution_count": 49,
     "metadata": {},
     "output_type": "execute_result"
    }
   ],
   "source": [
    "y_pred.shape"
   ]
  },
  {
   "cell_type": "code",
   "execution_count": 50,
   "metadata": {},
   "outputs": [
    {
     "data": {
      "image/png": "[encoded data removed]",
      "text/plain": [
       "<Figure size 864x432 with 1 Axes>"
      ]
     },
     "metadata": {
      "needs_background": "light"
     },
     "output_type": "display_data"
    }
   ],
   "source": [
    "plt.figure(figsize=(12, 6))\n",
    "plt.plot(df_dummies['value'])\n",
    "plt.plot(df_dummies.index, y_pred)\n",
    "plt.show()"
   ]
  },
  {
   "cell_type": "code",
   "execution_count": 51,
   "metadata": {},
   "outputs": [],
   "source": [
    "diff = (y_pred - df_dummies['value'])\n",
    "mae = np.mean(abs(diff))"
   ]
  },
  {
   "cell_type": "code",
   "execution_count": 52,
   "metadata": {},
   "outputs": [
    {
     "data": {
      "text/plain": [
       "1.0067111996197498"
      ]
     },
     "execution_count": 52,
     "metadata": {},
     "output_type": "execute_result"
    }
   ],
   "source": [
    "mae"
   ]
  },
  {
   "cell_type": "code",
   "execution_count": 53,
   "metadata": {},
   "outputs": [
    {
     "data": {
      "image/png": "[encoded data removed]",
      "text/plain": [
       "<Figure size 432x288 with 1 Axes>"
      ]
     },
     "metadata": {
      "needs_background": "light"
     },
     "output_type": "display_data"
    }
   ],
   "source": [
    "plt.hist(diff, bins=20)\n",
    "plt.show()"
   ]
  },
  {
   "cell_type": "code",
   "execution_count": 54,
   "metadata": {},
   "outputs": [
    {
     "data": {
      "text/html": [
       "<div>\n",
       "<style scoped>\n",
       "    .dataframe tbody tr th:only-of-type {\n",
       "        vertical-align: middle;\n",
       "    }\n",
       "\n",
       "    .dataframe tbody tr th {\n",
       "        vertical-align: top;\n",
       "    }\n",
       "\n",
       "    .dataframe thead th {\n",
       "        text-align: right;\n",
       "    }\n",
       "</style>\n",
       "<table border=\"1\" class=\"dataframe\">\n",
       "  <thead>\n",
       "    <tr style=\"text-align: right;\">\n",
       "      <th></th>\n",
       "      <th>0</th>\n",
       "    </tr>\n",
       "  </thead>\n",
       "  <tbody>\n",
       "    <tr>\n",
       "      <th>sell_price</th>\n",
       "      <td>-0.170385</td>\n",
       "    </tr>\n",
       "    <tr>\n",
       "      <th>adj_value</th>\n",
       "      <td>30.886796</td>\n",
       "    </tr>\n",
       "    <tr>\n",
       "      <th>dt</th>\n",
       "      <td>-0.639372</td>\n",
       "    </tr>\n",
       "    <tr>\n",
       "      <th>dt2</th>\n",
       "      <td>0.592153</td>\n",
       "    </tr>\n",
       "    <tr>\n",
       "      <th>weekday_1_Tue</th>\n",
       "      <td>0.015460</td>\n",
       "    </tr>\n",
       "    <tr>\n",
       "      <th>weekday_2_Wed</th>\n",
       "      <td>-0.015379</td>\n",
       "    </tr>\n",
       "    <tr>\n",
       "      <th>weekday_3_Thu</th>\n",
       "      <td>0.000843</td>\n",
       "    </tr>\n",
       "    <tr>\n",
       "      <th>weekday_4_Fri</th>\n",
       "      <td>0.078163</td>\n",
       "    </tr>\n",
       "    <tr>\n",
       "      <th>weekday_5_Sat</th>\n",
       "      <td>0.417105</td>\n",
       "    </tr>\n",
       "    <tr>\n",
       "      <th>weekday_6_Sun</th>\n",
       "      <td>0.304095</td>\n",
       "    </tr>\n",
       "    <tr>\n",
       "      <th>month_2</th>\n",
       "      <td>0.041709</td>\n",
       "    </tr>\n",
       "    <tr>\n",
       "      <th>month_3</th>\n",
       "      <td>0.004986</td>\n",
       "    </tr>\n",
       "    <tr>\n",
       "      <th>month_4</th>\n",
       "      <td>-0.045179</td>\n",
       "    </tr>\n",
       "    <tr>\n",
       "      <th>month_5</th>\n",
       "      <td>-0.042305</td>\n",
       "    </tr>\n",
       "    <tr>\n",
       "      <th>month_6</th>\n",
       "      <td>-0.037301</td>\n",
       "    </tr>\n",
       "    <tr>\n",
       "      <th>month_7</th>\n",
       "      <td>0.083097</td>\n",
       "    </tr>\n",
       "    <tr>\n",
       "      <th>month_8</th>\n",
       "      <td>0.260319</td>\n",
       "    </tr>\n",
       "    <tr>\n",
       "      <th>month_9</th>\n",
       "      <td>-0.003673</td>\n",
       "    </tr>\n",
       "    <tr>\n",
       "      <th>month_10</th>\n",
       "      <td>-0.009953</td>\n",
       "    </tr>\n",
       "    <tr>\n",
       "      <th>month_11</th>\n",
       "      <td>-0.013168</td>\n",
       "    </tr>\n",
       "    <tr>\n",
       "      <th>month_12</th>\n",
       "      <td>0.129555</td>\n",
       "    </tr>\n",
       "    <tr>\n",
       "      <th>holiday_Christmas</th>\n",
       "      <td>1.276491</td>\n",
       "    </tr>\n",
       "    <tr>\n",
       "      <th>holiday_ColumbusDay</th>\n",
       "      <td>-0.001184</td>\n",
       "    </tr>\n",
       "    <tr>\n",
       "      <th>holiday_Easter</th>\n",
       "      <td>0.012551</td>\n",
       "    </tr>\n",
       "    <tr>\n",
       "      <th>holiday_Eid al-Fitr</th>\n",
       "      <td>0.058020</td>\n",
       "    </tr>\n",
       "    <tr>\n",
       "      <th>holiday_EidAlAdha</th>\n",
       "      <td>-0.030679</td>\n",
       "    </tr>\n",
       "    <tr>\n",
       "      <th>holiday_Father's day</th>\n",
       "      <td>0.016549</td>\n",
       "    </tr>\n",
       "    <tr>\n",
       "      <th>holiday_Halloween</th>\n",
       "      <td>-0.044651</td>\n",
       "    </tr>\n",
       "    <tr>\n",
       "      <th>holiday_IndependenceDay</th>\n",
       "      <td>0.080716</td>\n",
       "    </tr>\n",
       "    <tr>\n",
       "      <th>holiday_LaborDay</th>\n",
       "      <td>0.063860</td>\n",
       "    </tr>\n",
       "    <tr>\n",
       "      <th>holiday_Mother's day</th>\n",
       "      <td>0.094519</td>\n",
       "    </tr>\n",
       "    <tr>\n",
       "      <th>holiday_NBAFinalsEnd</th>\n",
       "      <td>0.016239</td>\n",
       "    </tr>\n",
       "    <tr>\n",
       "      <th>holiday_NBAFinalsStart</th>\n",
       "      <td>-0.021489</td>\n",
       "    </tr>\n",
       "    <tr>\n",
       "      <th>holiday_NewYear</th>\n",
       "      <td>-0.025390</td>\n",
       "    </tr>\n",
       "    <tr>\n",
       "      <th>holiday_Ramadan starts</th>\n",
       "      <td>-0.026377</td>\n",
       "    </tr>\n",
       "    <tr>\n",
       "      <th>holiday_SuperBowl</th>\n",
       "      <td>-0.050929</td>\n",
       "    </tr>\n",
       "    <tr>\n",
       "      <th>holiday_Thanksgiving</th>\n",
       "      <td>0.222273</td>\n",
       "    </tr>\n",
       "    <tr>\n",
       "      <th>holiday_ValentinesDay</th>\n",
       "      <td>-0.050249</td>\n",
       "    </tr>\n",
       "  </tbody>\n",
       "</table>\n",
       "</div>"
      ],
      "text/plain": [
       "                                 0\n",
       "sell_price               -0.170385\n",
       "adj_value                30.886796\n",
       "dt                       -0.639372\n",
       "dt2                       0.592153\n",
       "weekday_1_Tue             0.015460\n",
       "weekday_2_Wed            -0.015379\n",
       "weekday_3_Thu             0.000843\n",
       "weekday_4_Fri             0.078163\n",
       "weekday_5_Sat             0.417105\n",
       "weekday_6_Sun             0.304095\n",
       "month_2                   0.041709\n",
       "month_3                   0.004986\n",
       "month_4                  -0.045179\n",
       "month_5                  -0.042305\n",
       "month_6                  -0.037301\n",
       "month_7                   0.083097\n",
       "month_8                   0.260319\n",
       "month_9                  -0.003673\n",
       "month_10                 -0.009953\n",
       "month_11                 -0.013168\n",
       "month_12                  0.129555\n",
       "holiday_Christmas         1.276491\n",
       "holiday_ColumbusDay      -0.001184\n",
       "holiday_Easter            0.012551\n",
       "holiday_Eid al-Fitr       0.058020\n",
       "holiday_EidAlAdha        -0.030679\n",
       "holiday_Father's day      0.016549\n",
       "holiday_Halloween        -0.044651\n",
       "holiday_IndependenceDay   0.080716\n",
       "holiday_LaborDay          0.063860\n",
       "holiday_Mother's day      0.094519\n",
       "holiday_NBAFinalsEnd      0.016239\n",
       "holiday_NBAFinalsStart   -0.021489\n",
       "holiday_NewYear          -0.025390\n",
       "holiday_Ramadan starts   -0.026377\n",
       "holiday_SuperBowl        -0.050929\n",
       "holiday_Thanksgiving      0.222273\n",
       "holiday_ValentinesDay    -0.050249"
      ]
     },
     "execution_count": 54,
     "metadata": {},
     "output_type": "execute_result"
    }
   ],
   "source": [
    "coeff = pd.DataFrame(lr.coef_, index=X_std.columns)\n",
    "coeff"
   ]
  },
  {
   "cell_type": "code",
   "execution_count": 55,
   "metadata": {},
   "outputs": [
    {
     "data": {
      "image/png": "[encoded data removed]",
      "text/plain": [
       "<Figure size 864x432 with 1 Axes>"
      ]
     },
     "metadata": {
      "needs_background": "light"
     },
     "output_type": "display_data"
    }
   ],
   "source": [
    "flag = df_dummies.index.year==2015\n",
    "plt.figure(figsize=(12, 6))\n",
    "plt.plot(df_dummies[flag]['value'])\n",
    "plt.plot(df_dummies[flag].index, y_pred[flag])\n",
    "plt.show()"
   ]
  },
  {
   "cell_type": "code",
   "execution_count": null,
   "metadata": {},
   "outputs": [],
   "source": []
  }
 ],
 "metadata": {
  "kernelspec": {
   "display_name": "Python 3",
   "language": "python",
   "name": "python3"
  },
  "language_info": {
   "codemirror_mode": {
    "name": "ipython",
    "version": 3
   },
   "file_extension": ".py",
   "mimetype": "text/x-python",
   "name": "python",
   "nbconvert_exporter": "python",
   "pygments_lexer": "ipython3",
   "version": "3.7.3"
  },
  "toc": {
   "base_numbering": 1,
   "nav_menu": {},
   "number_sections": true,
   "sideBar": false,
   "skip_h1_title": true,
   "title_cell": "Table of Contents",
   "title_sidebar": "Contents",
   "toc_cell": false,
   "toc_position": {
    "height": "745px",
    "left": "10px",
    "top": "150px",
    "width": "315px"
   },
   "toc_section_display": true,
   "toc_window_display": true
  }
 },
 "nbformat": 4,
 "nbformat_minor": 2
}
